{
 "cells": [
  {
   "cell_type": "code",
   "execution_count": 1,
   "metadata": {},
   "outputs": [],
   "source": [
    "import pytesseract\n",
    "\n",
    "# Download and install pytesseract from https://github.com/UB-Mannheim/tesseract/wiki \n",
    "# and put the installation path here.  -- C:\\Program Files\\Tesseract-OCR\\tesseract.exe\n",
    "pytesseract.pytesseract.tesseract_cmd = r'C:\\Program Files\\Tesseract-OCR\\tesseract.exe'"
   ]
  },
  {
   "cell_type": "code",
   "execution_count": 2,
   "metadata": {},
   "outputs": [],
   "source": [
    "import cv2 as cv\n",
    "import numpy as np\n",
    "import os\n",
    "import json"
   ]
  },
  {
   "cell_type": "code",
   "execution_count": 5,
   "metadata": {},
   "outputs": [],
   "source": [
    "# initialising an empty dictionary for storing the text read from bills.\n",
    "bill_text = {}"
   ]
  },
  {
   "cell_type": "code",
   "execution_count": 11,
   "metadata": {},
   "outputs": [
    {
     "name": "stdout",
     "output_type": "stream",
     "text": [
      "TR_168 is not proper\n",
      "TR_171 is not proper\n",
      "TR_184 is not proper\n"
     ]
    }
   ],
   "source": [
    "# This reads jpg images as numpy ndarrays.\n",
    "\n",
    "\n",
    "for file in os.listdir('images/Train/'):\n",
    "    if file.endswith(\".jpg\"):\n",
    "        if file.split('.')[0] in bill_text:\n",
    "            continue\n",
    "        try:\n",
    "            # Reading original image.\n",
    "            img_real = cv.imread(\"images/Train/{}\".format(file))\n",
    "            img = cv.cvtColor(img_real, cv.COLOR_BGR2RGB)\n",
    "            # Reading the text from image.\n",
    "            img_text = pytesseract.image_to_string(img) \n",
    "            # Storing the read text in dictionary.\n",
    "            bill_text[file.split('.')[0]] = img_text\n",
    "\n",
    "            # Uncomment the below code to see the image and the text read by it:\n",
    "#             print(img_text)\n",
    "#             img = cv.cvtColor(img_real, cv.WINDOW_AUTOSIZE)\n",
    "#             cv.namedWindow(\"Image\", cv.WINDOW_NORMAL)\n",
    "#             cv.resizeWindow(\"Image\", 600, 600)\n",
    "#             cv.imshow(\"Image\", img)\n",
    "#             #closes on pressing any key\n",
    "#             cv.waitKey(0)    # Waits till infinity\n",
    "#             cv.destroyAllWindows()\n",
    "#             print('\\n\\n','*--------' * 15, '\\n\\n')\n",
    "\n",
    "#             break\n",
    "\n",
    "        except:\n",
    "            print('{} is not proper'.format(file.split('.')[0]))"
   ]
  },
  {
   "cell_type": "code",
   "execution_count": 12,
   "metadata": {},
   "outputs": [
    {
     "data": {
      "text/plain": [
       "dict_keys(['TR_1', 'TR_10', 'TR_100', 'TR_101', 'TR_102', 'TR_103', 'TR_104', 'TR_105', 'TR_106', 'TR_107', 'TR_108', 'TR_109', 'TR_11', 'TR_110', 'TR_111', 'TR_112', 'TR_113', 'TR_114', 'TR_115', 'TR_116', 'TR_117', 'TR_118', 'TR_119', 'TR_12', 'TR_120', 'TR_121', 'TR_122', 'TR_123', 'TR_124', 'TR_125', 'TR_126', 'TR_127', 'TR_128', 'TR_129', 'TR_13', 'TR_130', 'TR_131', 'TR_132', 'TR_133', 'TR_134', 'TR_135', 'TR_136', 'TR_137', 'TR_138', 'TR_139', 'TR_14', 'TR_140', 'TR_141', 'TR_142', 'TR_143', 'TR_144', 'TR_145', 'TR_146', 'TR_147', 'TR_148', 'TR_149', 'TR_15', 'TR_150', 'TR_151', 'TR_152', 'TR_153', 'TR_154', 'TR_155', 'TR_156', 'TR_157', 'TR_158', 'TR_159', 'TR_16', 'TR_160', 'TR_161', 'TR_162', 'TR_163', 'TR_164', 'TR_165', 'TR_166', 'TR_167', 'TR_169', 'TR_17', 'TR_170', 'TR_172', 'TR_173', 'TR_174', 'TR_175', 'TR_176', 'TR_177', 'TR_178', 'TR_179', 'TR_18', 'TR_180', 'TR_181', 'TR_182', 'TR_183', 'TR_185', 'TR_186', 'TR_187', 'TR_188', 'TR_189', 'TR_19', 'TR_190', 'TR_2', 'TR_20', 'TR_21', 'TR_22', 'TR_23', 'TR_24', 'TR_25', 'TR_26', 'TR_27', 'TR_28', 'TR_29', 'TR_3', 'TR_30', 'TR_31', 'TR_32', 'TR_33', 'TR_34', 'TR_35', 'TR_36', 'TR_37', 'TR_38', 'TR_39', 'TR_4', 'TR_40', 'TR_41', 'TR_42', 'TR_43', 'TR_44', 'TR_45', 'TR_46', 'TR_47', 'TR_48', 'TR_49', 'TR_5', 'TR_50', 'TR_51', 'TR_52', 'TR_53', 'TR_54', 'TR_55', 'TR_56', 'TR_57', 'TR_58', 'TR_59', 'TR_6', 'TR_60', 'TR_61', 'TR_62', 'TR_63', 'TR_64', 'TR_65', 'TR_66', 'TR_67', 'TR_68', 'TR_69', 'TR_7', 'TR_70', 'TR_71', 'TR_72', 'TR_73', 'TR_74', 'TR_75', 'TR_76', 'TR_77', 'TR_78', 'TR_79', 'TR_8', 'TR_80', 'TR_81', 'TR_82', 'TR_83', 'TR_84', 'TR_85', 'TR_86', 'TR_87', 'TR_88', 'TR_89', 'TR_9', 'TR_90', 'TR_91', 'TR_92', 'TR_93', 'TR_94', 'TR_95', 'TR_96', 'TR_97', 'TR_98', 'TR_99'])"
      ]
     },
     "execution_count": 12,
     "metadata": {},
     "output_type": "execute_result"
    }
   ],
   "source": [
    "bill_text.keys()"
   ]
  },
  {
   "cell_type": "code",
   "execution_count": 18,
   "metadata": {},
   "outputs": [],
   "source": [
    "# Storing the image to text data as json file.\n",
    "with open('json/img-to-text.json', 'w') as fp:\n",
    "    json.dump(bill_text, fp)"
   ]
  },
  {
   "cell_type": "code",
   "execution_count": 19,
   "metadata": {},
   "outputs": [],
   "source": [
    "with open('json/img-to-text.json') as json_file:\n",
    "    loaded_text = json.load(json_file)"
   ]
  },
  {
   "cell_type": "code",
   "execution_count": 20,
   "metadata": {},
   "outputs": [
    {
     "data": {
      "text/plain": [
       "dict_keys(['TR_1', 'TR_10', 'TR_100', 'TR_101', 'TR_102', 'TR_103', 'TR_104', 'TR_105', 'TR_106', 'TR_107', 'TR_108', 'TR_109', 'TR_11', 'TR_110', 'TR_111', 'TR_112', 'TR_113', 'TR_114', 'TR_115', 'TR_116', 'TR_117', 'TR_118', 'TR_119', 'TR_12', 'TR_120', 'TR_121', 'TR_122', 'TR_123', 'TR_124', 'TR_125', 'TR_126', 'TR_127', 'TR_128', 'TR_129', 'TR_13', 'TR_130', 'TR_131', 'TR_132', 'TR_133', 'TR_134', 'TR_135', 'TR_136', 'TR_137', 'TR_138', 'TR_139', 'TR_14', 'TR_140', 'TR_141', 'TR_142', 'TR_143', 'TR_144', 'TR_145', 'TR_146', 'TR_147', 'TR_148', 'TR_149', 'TR_15', 'TR_150', 'TR_151', 'TR_152', 'TR_153', 'TR_154', 'TR_155', 'TR_156', 'TR_157', 'TR_158', 'TR_159', 'TR_16', 'TR_160', 'TR_161', 'TR_162', 'TR_163', 'TR_164', 'TR_165', 'TR_166', 'TR_167', 'TR_169', 'TR_17', 'TR_170', 'TR_172', 'TR_173', 'TR_174', 'TR_175', 'TR_176', 'TR_177', 'TR_178', 'TR_179', 'TR_18', 'TR_180', 'TR_181', 'TR_182', 'TR_183', 'TR_185', 'TR_186', 'TR_187', 'TR_188', 'TR_189', 'TR_19', 'TR_190', 'TR_2', 'TR_20', 'TR_21', 'TR_22', 'TR_23', 'TR_24', 'TR_25', 'TR_26', 'TR_27', 'TR_28', 'TR_29', 'TR_3', 'TR_30', 'TR_31', 'TR_32', 'TR_33', 'TR_34', 'TR_35', 'TR_36', 'TR_37', 'TR_38', 'TR_39', 'TR_4', 'TR_40', 'TR_41', 'TR_42', 'TR_43', 'TR_44', 'TR_45', 'TR_46', 'TR_47', 'TR_48', 'TR_49', 'TR_5', 'TR_50', 'TR_51', 'TR_52', 'TR_53', 'TR_54', 'TR_55', 'TR_56', 'TR_57', 'TR_58', 'TR_59', 'TR_6', 'TR_60', 'TR_61', 'TR_62', 'TR_63', 'TR_64', 'TR_65', 'TR_66', 'TR_67', 'TR_68', 'TR_69', 'TR_7', 'TR_70', 'TR_71', 'TR_72', 'TR_73', 'TR_74', 'TR_75', 'TR_76', 'TR_77', 'TR_78', 'TR_79', 'TR_8', 'TR_80', 'TR_81', 'TR_82', 'TR_83', 'TR_84', 'TR_85', 'TR_86', 'TR_87', 'TR_88', 'TR_89', 'TR_9', 'TR_90', 'TR_91', 'TR_92', 'TR_93', 'TR_94', 'TR_95', 'TR_96', 'TR_97', 'TR_98', 'TR_99'])"
      ]
     },
     "execution_count": 20,
     "metadata": {},
     "output_type": "execute_result"
    }
   ],
   "source": [
    "loaded_text.keys()"
   ]
  },
  {
   "cell_type": "code",
   "execution_count": null,
   "metadata": {},
   "outputs": [],
   "source": []
  },
  {
   "cell_type": "markdown",
   "metadata": {},
   "source": [
    "# Steps in the above function:"
   ]
  },
  {
   "cell_type": "code",
   "execution_count": null,
   "metadata": {},
   "outputs": [],
   "source": [
    "# Reading original image.\n",
    "\n",
    "# img_real = cv.imread(\"images/Train/TR_4.jpg\")"
   ]
  },
  {
   "cell_type": "code",
   "execution_count": null,
   "metadata": {},
   "outputs": [],
   "source": [
    "# Displaying image in 600 X 600 window.\n",
    "\n",
    "# img = cv.cvtColor(img_real, cv.COLOR_BGR2RGB, cv.WINDOW_AUTOSIZE)\n",
    "# cv.namedWindow(\"Image\", cv.WINDOW_NORMAL)\n",
    "# cv.resizeWindow(\"Image\", 600, 600)\n",
    "# cv.imshow(\"Image\", img)\n",
    "# #closes on pressing any key\n",
    "# cv.waitKey(0)    # Waits till infinity\n",
    "# cv.destroyAllWindows()"
   ]
  },
  {
   "cell_type": "markdown",
   "metadata": {},
   "source": [
    "#### Common Error:\n",
    "\n",
    "`img = cv.imread(\"/images/TR_1-1.jpg\") `  --> Wrong Path\n",
    "\n",
    "Traceback (most recent call last)\n",
    "<ipython-input-7-10bda7cf65ff> in <module>\n",
    "    <pre>\n",
    "      1 img = cv2.imread(\"/images/TR_1-1.jpg\")\n",
    "----> 2 cv2.imshow(\"First Image\", img)\n",
    "      3 cv2.waitKey(0)\n",
    "      4 cv2.destroyAllWindows()\n",
    "\n",
    "error: OpenCV(3.4.1) C:\\Miniconda3\\conda-bld\\opencv-suite_1533128839831\\work\\modules\\highgui\\src\\window.cpp:356: \n",
    "        error: (-215) size.width>0 && size.height>0 in function cv::imshow\n",
    "</pre>"
   ]
  },
  {
   "cell_type": "code",
   "execution_count": null,
   "metadata": {},
   "outputs": [],
   "source": [
    "# img_text = pytesseract.image_to_string(img) \n",
    "# print(img_text)"
   ]
  },
  {
   "cell_type": "code",
   "execution_count": null,
   "metadata": {},
   "outputs": [],
   "source": []
  },
  {
   "cell_type": "code",
   "execution_count": null,
   "metadata": {},
   "outputs": [],
   "source": []
  }
 ],
 "metadata": {
  "kernelspec": {
   "display_name": "Python 3",
   "language": "python",
   "name": "python3"
  },
  "language_info": {
   "codemirror_mode": {
    "name": "ipython",
    "version": 3
   },
   "file_extension": ".py",
   "mimetype": "text/x-python",
   "name": "python",
   "nbconvert_exporter": "python",
   "pygments_lexer": "ipython3",
   "version": "3.7.4"
  }
 },
 "nbformat": 4,
 "nbformat_minor": 2
}
