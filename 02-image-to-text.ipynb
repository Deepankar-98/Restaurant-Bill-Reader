{
 "cells": [
  {
   "cell_type": "code",
   "execution_count": 1,
   "metadata": {},
   "outputs": [],
   "source": [
    "import pytesseract\n",
    "\n",
    "# Download and install pytesseract from https://github.com/UB-Mannheim/tesseract/wiki \n",
    "# and put the installation path here.  -- C:\\Program Files\\Tesseract-OCR\\tesseract.exe\n",
    "pytesseract.pytesseract.tesseract_cmd = r'C:\\Program Files\\Tesseract-OCR\\tesseract.exe'"
   ]
  },
  {
   "cell_type": "code",
   "execution_count": 2,
   "metadata": {},
   "outputs": [],
   "source": [
    "import cv2 as cv"
   ]
  },
  {
   "cell_type": "code",
   "execution_count": 3,
   "metadata": {},
   "outputs": [],
   "source": [
    "import numpy as np"
   ]
  },
  {
   "cell_type": "code",
   "execution_count": 4,
   "metadata": {},
   "outputs": [],
   "source": [
    "# img = cv2.imread(\"images/TR_1-1.jpg\")\n",
    "# img_gray = cv2.cvtColor(img, cv2.COLOR_BGR2GRAY, cv2.WINDOW_AUTOSIZE)\n",
    "\n",
    "# # For making light grey color pixels as white to speed of computation.\n",
    "# img_gray[img_gray > 127] = 255\n",
    "\n",
    "# # Reducing imshow window size to fit in the laptop screen.\n",
    "# cv2.namedWindow(\"Greysvcale Image\", cv2.WINDOW_NORMAL)\n",
    "# cv2.resizeWindow(\"Greysvcale Image\", 600, 600)\n",
    "\n",
    "# # This variable is only used for displaying the image.\n",
    "# # image_gray_disp = cv2.resize(img_gray, (600, 600))\n",
    "# cv2.imshow(\"Greysvcale Image\", img_gray)\n",
    "\n",
    "# #closes on pressing any key\n",
    "# cv2.waitKey(0)    # Waits till infinity\n",
    "# cv2.destroyAllWindows()"
   ]
  },
  {
   "cell_type": "code",
   "execution_count": 5,
   "metadata": {},
   "outputs": [],
   "source": [
    "# Reading original image.\n",
    "img_real = cv.imread(\"images/TR_1-1.jpg\")"
   ]
  },
  {
   "cell_type": "code",
   "execution_count": null,
   "metadata": {},
   "outputs": [],
   "source": [
    "# Displaying image in 600 X 600 window.\n",
    "img = cv.cvtColor(img_real, cv.COLOR_BGR2RGB, cv.WINDOW_AUTOSIZE)\n",
    "cv.namedWindow(\"Image\", cv.WINDOW_NORMAL)\n",
    "cv.resizeWindow(\"Image\", 600, 600)\n",
    "cv.imshow(\"Image\", img)\n",
    "#closes on pressing any key\n",
    "cv.waitKey(0)    # Waits till infinity\n",
    "cv.destroyAllWindows()"
   ]
  },
  {
   "cell_type": "markdown",
   "metadata": {},
   "source": [
    "#### Common Error:\n",
    "\n",
    "`img = cv.imread(\"/images/TR_1-1.jpg\") `  --> Wrong Path\n",
    "\n",
    "Traceback (most recent call last)\n",
    "<ipython-input-7-10bda7cf65ff> in <module>\n",
    "    <pre>\n",
    "      1 img = cv2.imread(\"/images/TR_1-1.jpg\")\n",
    "----> 2 cv2.imshow(\"First Image\", img)\n",
    "      3 cv2.waitKey(0)\n",
    "      4 cv2.destroyAllWindows()\n",
    "\n",
    "error: OpenCV(3.4.1) C:\\Miniconda3\\conda-bld\\opencv-suite_1533128839831\\work\\modules\\highgui\\src\\window.cpp:356: \n",
    "        error: (-215) size.width>0 && size.height>0 in function cv::imshow\n",
    "</pre>"
   ]
  },
  {
   "cell_type": "code",
   "execution_count": null,
   "metadata": {},
   "outputs": [],
   "source": [
    "# img = cv.imread(\"images/TR_1-1.jpg\")\n",
    "# img = cv.cvtColor(img, cv.COLOR_BGR2GRAY)\n",
    "# img = cv.medianBlur(img,5)\n",
    "# ret,th1 = cv.threshold(img,127,255,cv.THRESH_BINARY)\n",
    "# th2 = cv.adaptiveThreshold(img, 255, cv.ADAPTIVE_THRESH_MEAN_C, cv.THRESH_BINARY, 11, 2)\n",
    "# th3 = cv.adaptiveThreshold(img, 255, cv.ADAPTIVE_THRESH_GAUSSIAN_C, cv.THRESH_BINARY, 11, 2)\n",
    "# titles = ['Original Image', 'Global Thresholding (v = 127)',\n",
    "#             'Adaptive Mean Thresholding', 'Adaptive Gaussian Thresholding']\n",
    "# images = [img, th1, th2, th3]\n",
    "# for i in range(4):\n",
    "#     plt.figure(figsize=(20,18))\n",
    "#     plt.subplot(2,2,i+1),plt.imshow(images[i],'gray')\n",
    "#     plt.title(titles[i])\n",
    "#     plt.xticks([]),plt.yticks([])\n",
    "# plt.show()"
   ]
  },
  {
   "cell_type": "code",
   "execution_count": 6,
   "metadata": {},
   "outputs": [
    {
     "name": "stdout",
     "output_type": "stream",
     "text": [
      "GREEN FIELD\n",
      "\n",
      "5305 E PACIFIC COAST HWY\n",
      "Long Beach, CA 908604\n",
      "(S62) 597-0906\n",
      "\n",
      "Server: Francis Station: 3\n",
      "\n",
      "Order #: 69923 Dine In\n",
      "\n",
      "lable: Bl] Guests: e\n",
      "| Coffee 3.00\n",
      "e Lunch 45.90\n",
      "1 Coke 3.00\n",
      "SUB TOTAL: 51.90\n",
      "Tax |:\n",
      "\n",
      "OTA: $56 68\n",
      "\n",
      "5/26/2016 12:53:10 PM\n",
      "\n",
      "wINUNN\n",
      "\n",
      "THANK YOU!\n"
     ]
    }
   ],
   "source": [
    "# Reading the greyscale image.\n",
    "img_text = pytesseract.image_to_string(img) \n",
    "print(img_text)"
   ]
  },
  {
   "cell_type": "code",
   "execution_count": null,
   "metadata": {},
   "outputs": [],
   "source": []
  }
 ],
 "metadata": {
  "kernelspec": {
   "display_name": "Python 3",
   "language": "python",
   "name": "python3"
  },
  "language_info": {
   "codemirror_mode": {
    "name": "ipython",
    "version": 3
   },
   "file_extension": ".py",
   "mimetype": "text/x-python",
   "name": "python",
   "nbconvert_exporter": "python",
   "pygments_lexer": "ipython3",
   "version": "3.7.4"
  }
 },
 "nbformat": 4,
 "nbformat_minor": 2
}
