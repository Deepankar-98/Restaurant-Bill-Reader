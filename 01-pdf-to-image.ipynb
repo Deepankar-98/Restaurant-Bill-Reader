{
 "cells": [
  {
   "cell_type": "code",
   "execution_count": 1,
   "metadata": {},
   "outputs": [],
   "source": [
    "from wand.image import Image as wi\n",
    "import os"
   ]
  },
  {
   "cell_type": "code",
   "execution_count": 2,
   "metadata": {},
   "outputs": [
    {
     "data": {
      "text/plain": [
       "'C:\\\\Users\\\\DEEPANKAR MULLICK\\\\01-Full Python Tutorial (Deep)\\\\02-Jupyter Code Repository (deep)\\\\Bill Amount Reader'"
      ]
     },
     "execution_count": 2,
     "metadata": {},
     "output_type": "execute_result"
    }
   ],
   "source": [
    "os.getcwd()"
   ]
  },
  {
   "cell_type": "markdown",
   "metadata": {},
   "source": [
    "#### Code for pdf to image:\n",
    "<pre>pdf = wi(filename=\"TR_8.pdf\", resolution=400)\n",
    "pdfimage = pdf.convert(\"jpeg\")\n",
    "pdfimage.save(filename=\"abc.jpg\")</pre>"
   ]
  },
  {
   "cell_type": "code",
   "execution_count": 3,
   "metadata": {},
   "outputs": [],
   "source": [
    "# Creating directories if already not present.\n",
    "if os.path.exists(r'images/') == False:\n",
    "    os.mkdir('images')\n",
    "    os.mkdir('images/Train')\n",
    "    os.mkdir('images/Test')"
   ]
  },
  {
   "cell_type": "code",
   "execution_count": 4,
   "metadata": {},
   "outputs": [],
   "source": [
    "# This converts pdf files to images.\n",
    "# Since pdf has only 1 page so we dont need to save the pages seperately.\n",
    "pdf_containing_folders = ['Train', \"Test\"]\n",
    "\n",
    "for directory in pdf_containing_folders:\n",
    "    for file in os.listdir('Dataset/{}/'.format(directory)):\n",
    "        if file.endswith(\".pdf\"):\n",
    "            pdf = wi(filename = 'Dataset/{}/{}'.format(directory, file), resolution = 400)\n",
    "            pdfimage = pdf.convert(\"jpeg\")\n",
    "            pdfimage.save(filename=\"images/{}/{}.jpg\".format(directory, file.split(\".\")[0]))"
   ]
  },
  {
   "cell_type": "markdown",
   "metadata": {},
   "source": [
    "### References:\n",
    "\n",
    "- https://www.youtube.com/watch?v=pf7OONW7l54&t=445s\n",
    "\n",
    "- https://hoineki.com/article.php?a=How_to_convert_PDF_to_Image34"
   ]
  },
  {
   "cell_type": "code",
   "execution_count": null,
   "metadata": {},
   "outputs": [],
   "source": []
  }
 ],
 "metadata": {
  "kernelspec": {
   "display_name": "Python 3",
   "language": "python",
   "name": "python3"
  },
  "language_info": {
   "codemirror_mode": {
    "name": "ipython",
    "version": 3
   },
   "file_extension": ".py",
   "mimetype": "text/x-python",
   "name": "python",
   "nbconvert_exporter": "python",
   "pygments_lexer": "ipython3",
   "version": "3.7.4"
  }
 },
 "nbformat": 4,
 "nbformat_minor": 4
}
